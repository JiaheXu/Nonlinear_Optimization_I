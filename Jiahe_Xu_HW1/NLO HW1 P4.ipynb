{
 "cells": [
  {
   "cell_type": "code",
   "execution_count": 1,
   "id": "c52bdacd",
   "metadata": {},
   "outputs": [],
   "source": [
    "import numpy as np"
   ]
  },
  {
   "cell_type": "code",
   "execution_count": 2,
   "id": "31072842",
   "metadata": {},
   "outputs": [],
   "source": [
    "S =[ [15.0 , 40.0, 40.0 ] ,\n",
    "     [20.0 , 40.0 , 40.0 ] ,\n",
    "     [50.0 , 25.0 , 25.0 ] ,\n",
    "     [40.0 , 25.0 , 25.0 ] ,\n",
    "     [15.0 , 37.5 , 37.5] ,\n",
    "     [15.0 , 15.0 , 65.0 ] ,\n",
    "     [20.0 , 15.0 , 65.0 ] ,\n",
    "     [50.0 , 15.0 , 35.0 ] ,\n",
    "     [40.0 , 15.0 , 35.0 ] ,\n",
    "     [15.0 , 15.0 , 60.0 ] ]\n",
    "\n",
    "C = [\n",
    "    [100 , 90 , 80 , 70] ,\n",
    "    [85 , 85 , 85 , 85] ,\n",
    "    [70 , 80 , 90 , 100]]"
   ]
  },
  {
   "cell_type": "code",
   "execution_count": 3,
   "id": "6f9f2b89",
   "metadata": {},
   "outputs": [],
   "source": [
    "for i in range(10):\n",
    "    sum_ = S[i][0] + S[i][1] + S[i][2]\n",
    "    S[i].append(100 - sum_)"
   ]
  },
  {
   "cell_type": "code",
   "execution_count": 4,
   "id": "11082892",
   "metadata": {},
   "outputs": [
    {
     "data": {
      "text/plain": [
       "[[15.0, 40.0, 40.0, 5.0],\n",
       " [20.0, 40.0, 40.0, 0.0],\n",
       " [50.0, 25.0, 25.0, 0.0],\n",
       " [40.0, 25.0, 25.0, 10.0],\n",
       " [15.0, 37.5, 37.5, 10.0],\n",
       " [15.0, 15.0, 65.0, 5.0],\n",
       " [20.0, 15.0, 65.0, 0.0],\n",
       " [50.0, 15.0, 35.0, 0.0],\n",
       " [40.0, 15.0, 35.0, 10.0],\n",
       " [15.0, 15.0, 60.0, 10.0]]"
      ]
     },
     "execution_count": 4,
     "metadata": {},
     "output_type": "execute_result"
    }
   ],
   "source": [
    "S"
   ]
  },
  {
   "cell_type": "code",
   "execution_count": 7,
   "id": "e51acc09",
   "metadata": {
    "scrolled": true
   },
   "outputs": [
    {
     "name": "stdout",
     "output_type": "stream",
     "text": [
      "for student  1  the maximum course score is 92.5  on corner :( 50.0   25.0   25.0 )\n",
      "\n",
      "for student  2  the maximum course score is 85.0  on corner :( 15.0   40.0   40.0 )\n",
      "for student  2  the maximum course score is 85.0  on corner :( 20.0   40.0   40.0 )\n",
      "for student  2  the maximum course score is 85.0  on corner :( 50.0   25.0   25.0 )\n",
      "for student  2  the maximum course score is 85.0  on corner :( 40.0   25.0   25.0 )\n",
      "for student  2  the maximum course score is 85.0  on corner :( 15.0   37.5   37.5 )\n",
      "for student  2  the maximum course score is 85.0  on corner :( 15.0   15.0   65.0 )\n",
      "for student  2  the maximum course score is 85.0  on corner :( 20.0   15.0   65.0 )\n",
      "for student  2  the maximum course score is 85.0  on corner :( 50.0   15.0   35.0 )\n",
      "for student  2  the maximum course score is 85.0  on corner :( 40.0   15.0   35.0 )\n",
      "for student  2  the maximum course score is 85.0  on corner :( 15.0   15.0   60.0 )\n",
      "\n",
      "for student  3  the maximum course score is 86.5  on corner :( 15.0   15.0   60.0 )\n",
      "\n"
     ]
    }
   ],
   "source": [
    "for i in range(3):\n",
    "    max_reward = -1\n",
    "    max_reward_ind = []\n",
    "    for j in range(10):\n",
    "        reward = 0.0\n",
    "        for k in range(4):\n",
    "            reward += C[i][k]*S[j][k]/100.0\n",
    "        if(reward == max_reward):\n",
    "            max_reward_ind.append(j)\n",
    "        if(reward > max_reward):\n",
    "            max_reward = reward\n",
    "            max_reward_ind = [ j ]\n",
    "    for k in max_reward_ind:\n",
    "          print(\"for student \", i+1 , \" the maximum course score is\" ,\n",
    "          max_reward ,\" on corner :(\" ,\n",
    "          S[k][0] , \" \",\n",
    "          S[k][1] , \" \",\n",
    "          S[k][2] , \")\" )\n",
    "    print(\"\")"
   ]
  },
  {
   "cell_type": "code",
   "execution_count": null,
   "id": "4da11f1f",
   "metadata": {},
   "outputs": [],
   "source": []
  },
  {
   "cell_type": "code",
   "execution_count": null,
   "id": "1202dd7e",
   "metadata": {},
   "outputs": [],
   "source": []
  },
  {
   "cell_type": "code",
   "execution_count": null,
   "id": "6f66de1b",
   "metadata": {},
   "outputs": [],
   "source": []
  },
  {
   "cell_type": "code",
   "execution_count": null,
   "id": "6979ff4c",
   "metadata": {},
   "outputs": [],
   "source": []
  }
 ],
 "metadata": {
  "kernelspec": {
   "display_name": "Python 3",
   "language": "python",
   "name": "python3"
  },
  "language_info": {
   "codemirror_mode": {
    "name": "ipython",
    "version": 3
   },
   "file_extension": ".py",
   "mimetype": "text/x-python",
   "name": "python",
   "nbconvert_exporter": "python",
   "pygments_lexer": "ipython3",
   "version": "3.8.5"
  }
 },
 "nbformat": 4,
 "nbformat_minor": 5
}
